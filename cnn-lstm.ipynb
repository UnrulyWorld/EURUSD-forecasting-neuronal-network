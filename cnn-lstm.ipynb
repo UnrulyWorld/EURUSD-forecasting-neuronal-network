{
 "cells": [
  {
   "metadata": {},
   "cell_type": "markdown",
   "source": "# LSTM-RNN Network",
   "id": "133eb3720c9fa1de"
  },
  {
   "metadata": {
    "ExecuteTime": {
     "end_time": "2024-12-11T13:33:01.549463Z",
     "start_time": "2024-12-11T13:33:01.546625Z"
    }
   },
   "cell_type": "code",
   "source": [
    "import pandas as pd\n",
    "import numpy as np\n",
    "import keras\n",
    "from matplotlib import pyplot as plt"
   ],
   "id": "f32100d91361a624",
   "outputs": [],
   "execution_count": 87
  },
  {
   "metadata": {
    "ExecuteTime": {
     "end_time": "2024-12-11T13:33:01.578658Z",
     "start_time": "2024-12-11T13:33:01.569097Z"
    }
   },
   "cell_type": "code",
   "source": [
    "dataTrain=pd.read_csv(\"DATA_train.csv\")\n",
    "dataTrain=pd.DataFrame(dataTrain)\n",
    "print(dataTrain.head(5))"
   ],
   "id": "42e53ca20c5ab2e9",
   "outputs": [
    {
     "name": "stdout",
     "output_type": "stream",
     "text": [
      "         Date   Price    Open    High     Low  Change\n",
      "0  1985-03-25  0.6877  0.6877  0.6877  0.6877   -0.54\n",
      "1  1985-03-26  0.6938  0.6938  0.6938  0.6938    0.89\n",
      "2  1985-03-27  0.7077  0.7077  0.7077  0.7077    2.00\n",
      "3  1985-03-28  0.7124  0.7124  0.7124  0.7124    0.66\n",
      "4  1985-03-29  0.7209  0.7209  0.7209  0.7209    1.19\n"
     ]
    }
   ],
   "execution_count": 88
  },
  {
   "metadata": {
    "ExecuteTime": {
     "end_time": "2024-12-11T13:33:03.236568Z",
     "start_time": "2024-12-11T13:33:01.585295Z"
    }
   },
   "cell_type": "code",
   "source": [
    "# Préparer les séquences d'entrée (X_Train) et les valeurs à prédire (y_Train)\n",
    "X_Train = []\n",
    "y_Train = []\n",
    "observation_size = 10\n",
    "\n",
    "for i in range(len(dataTrain) - observation_size):\n",
    "    # Prendre deux observations consécutives\n",
    "    X_Train.append(dataTrain.iloc[i:i + observation_size, 1:])  # Colonnes [Price, Open, High, Low, Change]\n",
    "\n",
    "    # Prédire 'Open' et 'Close' du troisième pas de temps\n",
    "    y_Train.append(dataTrain.iloc[i + observation_size, [2, 1]])  # Open = colonne 2, Close = colonne 1\n",
    "\n",
    "X_Train = np.array(X_Train)\n",
    "y_Train = np.array(y_Train)\n",
    "\n",
    "X_Train = X_Train.astype(\"float32\")\n",
    "y_Train = y_Train.astype(\"float32\")\n",
    "\n",
    "# Vérifiez les dimensions\n",
    "print(\"Shape de X_Train :\", X_Train.shape)  # (nombre_exemples, 10, 5)\n",
    "print(\"Shape de y_Train :\", y_Train.shape)  # (nombre_exemples, 2)"
   ],
   "id": "3e556320ff714f18",
   "outputs": [
    {
     "name": "stdout",
     "output_type": "stream",
     "text": [
      "Shape de X_Train : (9768, 10, 5)\n",
      "Shape de y_Train : (9768, 2)\n"
     ]
    }
   ],
   "execution_count": 89
  },
  {
   "metadata": {
    "ExecuteTime": {
     "end_time": "2024-12-11T13:36:43.265363Z",
     "start_time": "2024-12-11T13:33:03.256212Z"
    }
   },
   "cell_type": "code",
   "source": [
    "model = keras.Sequential([\n",
    "    keras.layers.Input(shape=(10, 5)),\n",
    "    keras.layers.LSTM(50, activation='relu', return_sequences=True),\n",
    "    keras.layers.LSTM(50, activation='relu', return_sequences=False),\n",
    "    keras.layers.Dense(32, activation='relu'),\n",
    "    keras.layers.Dense(2, activation='linear')\n",
    "])\n",
    "\n",
    "# Compilation du modèle\n",
    "model.compile(optimizer='adam', loss='huber')\n",
    "\n",
    "# Entraînement\n",
    "model.fit(X_Train, y_Train, epochs=200, batch_size=32, verbose=3)\n"
   ],
   "id": "c59286be7aee9fb7",
   "outputs": [
    {
     "name": "stdout",
     "output_type": "stream",
     "text": [
      "Epoch 1/200\n",
      "Epoch 2/200\n",
      "Epoch 3/200\n",
      "Epoch 4/200\n",
      "Epoch 5/200\n",
      "Epoch 6/200\n",
      "Epoch 7/200\n",
      "Epoch 8/200\n",
      "Epoch 9/200\n",
      "Epoch 10/200\n",
      "Epoch 11/200\n",
      "Epoch 12/200\n",
      "Epoch 13/200\n",
      "Epoch 14/200\n",
      "Epoch 15/200\n",
      "Epoch 16/200\n",
      "Epoch 17/200\n",
      "Epoch 18/200\n",
      "Epoch 19/200\n",
      "Epoch 20/200\n",
      "Epoch 21/200\n",
      "Epoch 22/200\n",
      "Epoch 23/200\n",
      "Epoch 24/200\n",
      "Epoch 25/200\n",
      "Epoch 26/200\n",
      "Epoch 27/200\n",
      "Epoch 28/200\n",
      "Epoch 29/200\n",
      "Epoch 30/200\n",
      "Epoch 31/200\n",
      "Epoch 32/200\n",
      "Epoch 33/200\n",
      "Epoch 34/200\n",
      "Epoch 35/200\n",
      "Epoch 36/200\n",
      "Epoch 37/200\n",
      "Epoch 38/200\n",
      "Epoch 39/200\n",
      "Epoch 40/200\n",
      "Epoch 41/200\n",
      "Epoch 42/200\n",
      "Epoch 43/200\n",
      "Epoch 44/200\n",
      "Epoch 45/200\n",
      "Epoch 46/200\n",
      "Epoch 47/200\n",
      "Epoch 48/200\n",
      "Epoch 49/200\n",
      "Epoch 50/200\n",
      "Epoch 51/200\n",
      "Epoch 52/200\n",
      "Epoch 53/200\n",
      "Epoch 54/200\n",
      "Epoch 55/200\n",
      "Epoch 56/200\n",
      "Epoch 57/200\n",
      "Epoch 58/200\n",
      "Epoch 59/200\n",
      "Epoch 60/200\n",
      "Epoch 61/200\n",
      "Epoch 62/200\n",
      "Epoch 63/200\n",
      "Epoch 64/200\n",
      "Epoch 65/200\n",
      "Epoch 66/200\n",
      "Epoch 67/200\n",
      "Epoch 68/200\n",
      "Epoch 69/200\n",
      "Epoch 70/200\n",
      "Epoch 71/200\n",
      "Epoch 72/200\n",
      "Epoch 73/200\n",
      "Epoch 74/200\n",
      "Epoch 75/200\n",
      "Epoch 76/200\n",
      "Epoch 77/200\n",
      "Epoch 78/200\n",
      "Epoch 79/200\n",
      "Epoch 80/200\n",
      "Epoch 81/200\n",
      "Epoch 82/200\n",
      "Epoch 83/200\n",
      "Epoch 84/200\n",
      "Epoch 85/200\n",
      "Epoch 86/200\n",
      "Epoch 87/200\n",
      "Epoch 88/200\n",
      "Epoch 89/200\n",
      "Epoch 90/200\n",
      "Epoch 91/200\n",
      "Epoch 92/200\n",
      "Epoch 93/200\n",
      "Epoch 94/200\n",
      "Epoch 95/200\n",
      "Epoch 96/200\n",
      "Epoch 97/200\n",
      "Epoch 98/200\n",
      "Epoch 99/200\n",
      "Epoch 100/200\n",
      "Epoch 101/200\n",
      "Epoch 102/200\n",
      "Epoch 103/200\n",
      "Epoch 104/200\n",
      "Epoch 105/200\n",
      "Epoch 106/200\n",
      "Epoch 107/200\n",
      "Epoch 108/200\n",
      "Epoch 109/200\n",
      "Epoch 110/200\n",
      "Epoch 111/200\n",
      "Epoch 112/200\n",
      "Epoch 113/200\n",
      "Epoch 114/200\n",
      "Epoch 115/200\n",
      "Epoch 116/200\n",
      "Epoch 117/200\n",
      "Epoch 118/200\n",
      "Epoch 119/200\n",
      "Epoch 120/200\n",
      "Epoch 121/200\n",
      "Epoch 122/200\n",
      "Epoch 123/200\n",
      "Epoch 124/200\n",
      "Epoch 125/200\n",
      "Epoch 126/200\n",
      "Epoch 127/200\n",
      "Epoch 128/200\n",
      "Epoch 129/200\n",
      "Epoch 130/200\n",
      "Epoch 131/200\n",
      "Epoch 132/200\n",
      "Epoch 133/200\n",
      "Epoch 134/200\n",
      "Epoch 135/200\n",
      "Epoch 136/200\n",
      "Epoch 137/200\n",
      "Epoch 138/200\n",
      "Epoch 139/200\n",
      "Epoch 140/200\n",
      "Epoch 141/200\n",
      "Epoch 142/200\n",
      "Epoch 143/200\n",
      "Epoch 144/200\n",
      "Epoch 145/200\n",
      "Epoch 146/200\n",
      "Epoch 147/200\n",
      "Epoch 148/200\n",
      "Epoch 149/200\n",
      "Epoch 150/200\n",
      "Epoch 151/200\n",
      "Epoch 152/200\n",
      "Epoch 153/200\n",
      "Epoch 154/200\n",
      "Epoch 155/200\n",
      "Epoch 156/200\n",
      "Epoch 157/200\n",
      "Epoch 158/200\n",
      "Epoch 159/200\n",
      "Epoch 160/200\n",
      "Epoch 161/200\n",
      "Epoch 162/200\n",
      "Epoch 163/200\n",
      "Epoch 164/200\n",
      "Epoch 165/200\n",
      "Epoch 166/200\n",
      "Epoch 167/200\n",
      "Epoch 168/200\n",
      "Epoch 169/200\n",
      "Epoch 170/200\n",
      "Epoch 171/200\n",
      "Epoch 172/200\n",
      "Epoch 173/200\n",
      "Epoch 174/200\n",
      "Epoch 175/200\n",
      "Epoch 176/200\n",
      "Epoch 177/200\n",
      "Epoch 178/200\n",
      "Epoch 179/200\n",
      "Epoch 180/200\n",
      "Epoch 181/200\n",
      "Epoch 182/200\n",
      "Epoch 183/200\n",
      "Epoch 184/200\n",
      "Epoch 185/200\n",
      "Epoch 186/200\n",
      "Epoch 187/200\n",
      "Epoch 188/200\n",
      "Epoch 189/200\n",
      "Epoch 190/200\n",
      "Epoch 191/200\n",
      "Epoch 192/200\n",
      "Epoch 193/200\n",
      "Epoch 194/200\n",
      "Epoch 195/200\n",
      "Epoch 196/200\n",
      "Epoch 197/200\n",
      "Epoch 198/200\n",
      "Epoch 199/200\n",
      "Epoch 200/200\n"
     ]
    },
    {
     "data": {
      "text/plain": [
       "<keras.src.callbacks.history.History at 0x311904290>"
      ]
     },
     "execution_count": 90,
     "metadata": {},
     "output_type": "execute_result"
    }
   ],
   "execution_count": 90
  },
  {
   "metadata": {
    "ExecuteTime": {
     "end_time": "2024-12-11T13:36:43.930286Z",
     "start_time": "2024-12-11T13:36:43.282750Z"
    }
   },
   "cell_type": "code",
   "source": [
    "dataTest=pd.read_csv(\"DATA_TEST.csv\")\n",
    "dataTrest=pd.DataFrame(dataTest)\n",
    "\n",
    "# Préparer les séquences d'entrée (X_Test) et les valeurs à prédire (y_Test)\n",
    "X_Test = []\n",
    "y_Test = []\n",
    "\n",
    "for i in range(len(dataTest) - 10):\n",
    "    # Prendre deux observations consécutives\n",
    "    X_Test.append(dataTest.iloc[i:i + 10, 1:])  # Colonnes [Price, Open, High, Low, Change]\n",
    "\n",
    "    # Prédire 'Open' et 'Close' du troisième pas de temps\n",
    "    y_Test.append(dataTest.iloc[i + 10, [2, 1]])  # Open = colonne 2, Close = colonne 1\n",
    "\n",
    "X_Test = np.array(X_Test)\n",
    "y_Test = np.array(y_Test)\n",
    "\n",
    "X_Test = X_Test.astype(\"float32\")\n",
    "y_Test = y_Test.astype(\"float32\")\n",
    "\n",
    "# Vérifiez les dimensions\n",
    "print(\"Shape de X_Test :\", X_Test.shape)  # (nombre_exemples, 10, 5)\n",
    "print(\"Shape de y_Test :\", y_Test.shape)  # (nombre_exemples, 2)"
   ],
   "id": "2de3f587f3591f1",
   "outputs": [
    {
     "name": "stdout",
     "output_type": "stream",
     "text": [
      "Shape de X_Test : (4091, 10, 5)\n",
      "Shape de y_Test : (4091, 2)\n"
     ]
    }
   ],
   "execution_count": 91
  },
  {
   "metadata": {
    "ExecuteTime": {
     "end_time": "2024-12-11T13:36:44.305676Z",
     "start_time": "2024-12-11T13:36:43.937149Z"
    }
   },
   "cell_type": "code",
   "source": [
    "# Prédire les valeurs 'Open' et 'Close' pour un nouvel ensemble de données\n",
    "predictions = model.predict(X_Test)\n",
    "\n",
    "Open_rmse = np.sqrt(np.mean(predictions[:, 0] - y_Test[:, 0]) ** 2)\n",
    "Close_rmse = np.sqrt(np.mean(predictions[:, 1] - y_Test[:, 1]) ** 2)\n",
    "\n",
    "print(\"RMSE Open :\", Open_rmse)\n",
    "print(\"RMSE Close :\", Close_rmse)\n",
    "\n",
    "plt.subplot(2, 1, 1)\n",
    "plt.plot(y_Test[:, 0], label='True Open')\n",
    "plt.plot(predictions[:, 0], label='Predicted Open')\n",
    "plt.legend()\n",
    "plt.subplot(2, 1, 2)\n",
    "plt.plot(y_Test[:, 1], label='True Close')\n",
    "plt.plot(predictions[:, 1], label='Predicted Close')\n",
    "plt.legend()\n",
    "plt.show()\n"
   ],
   "id": "100369d7bb142197",
   "outputs": [
    {
     "name": "stdout",
     "output_type": "stream",
     "text": [
      "\u001B[1m128/128\u001B[0m \u001B[32m━━━━━━━━━━━━━━━━━━━━\u001B[0m\u001B[37m\u001B[0m \u001B[1m0s\u001B[0m 1ms/step\n",
      "RMSE Open : 0.0032201454\n",
      "RMSE Close : 0.0015642482\n"
     ]
    },
    {
     "data": {
      "text/plain": [
       "<Figure size 640x480 with 2 Axes>"
      ],
      "image/png": "[encoded data removed]"
     },
     "metadata": {},
     "output_type": "display_data"
    }
   ],
   "execution_count": 92
  },
  {
   "metadata": {
    "ExecuteTime": {
     "end_time": "2024-12-11T14:01:41.323927Z",
     "start_time": "2024-12-11T14:01:41.299297Z"
    }
   },
   "cell_type": "code",
   "source": "model.save(\"trained_lstm_model.h5\")",
   "id": "e4a3561ef55e4665",
   "outputs": [
    {
     "name": "stderr",
     "output_type": "stream",
     "text": [
      "WARNING:absl:You are saving your model as an HDF5 file via `model.save()` or `keras.saving.save_model(model)`. This file format is considered legacy. We recommend using instead the native Keras format, e.g. `model.save('my_model.keras')` or `keras.saving.save_model(model, 'my_model.keras')`. \n"
     ]
    }
   ],
   "execution_count": 93
  }
 ],
 "metadata": {
  "kernelspec": {
   "name": "python3",
   "language": "python",
   "display_name": "Python 3 (ipykernel)"
  }
 },
 "nbformat": 5,
 "nbformat_minor": 9
}
